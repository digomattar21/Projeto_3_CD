{
 "cells": [
  {
   "cell_type": "code",
   "execution_count": 1,
   "metadata": {},
   "outputs": [],
   "source": [
    "%matplotlib inline\n",
    "import numpy as np\n",
    "import pandas as pd\n",
    "import matplotlib\n",
    "import matplotlib.pyplot as plt\n",
    "import os.path\n",
    "import os \n",
    "import csv\n",
    "\n",
    "\n",
    "RANDOM_SEED = 42\n",
    "np.random.seed(RANDOM_SEED)"
   ]
  },
  {
   "cell_type": "code",
   "execution_count": 2,
   "metadata": {},
   "outputs": [],
   "source": [
    "from sklearn.feature_extraction.text import CountVectorizer\n",
    "from sklearn.metrics import accuracy_score\n",
    "from sklearn.naive_bayes import MultinomialNB\n",
    "from sklearn.pipeline import Pipeline"
   ]
  },
  {
   "cell_type": "code",
   "execution_count": 23,
   "metadata": {},
   "outputs": [],
   "source": [
    "#Trazendo os dados para o python\n",
    "data = pd.read_excel('listings.xlsx')\n",
    "df = data.loc[(data.state=='DC')&(data.city=='Washington')]\n"
   ]
  },
  {
   "cell_type": "code",
   "execution_count": 54,
   "metadata": {},
   "outputs": [],
   "source": [
    "#Selecionando somente as colunas que queremos trabalhar com e tirando os sinais de moedas \n",
    "colunas = [\"latitude\", \"longitude\", \"property_type\", \"accomodations\",\"bathrooms\", \"bedrooms\", \"beds\", \"price\", \"cleaning_fee\", \"extra_people\",\"minimum_nights\", \"review_scores_rating\",\"cancellation_policy\"]\n",
    "df = df.loc[:,colunas]\n",
    "df['price'] = df['price'].str.replace('$', '')\n",
    "df['cleaning_fee'] = df['cleaning_fee'].str.replace('$', '')\n",
    "df['extra_people'] = df['extra_people'].str.replace('$', '')\n",
    "df['price']= df['price'].str.replace(',','')\n",
    "df['cleaning_fee']= df['cleaning_fee'].str.replace(',','')\n",
    "df['extra_people']=df['extra_people'].str.replace(',','')\n",
    "\n",
    "df['price']=df['price'].astype(float)\n"
   ]
  },
  {
   "cell_type": "code",
   "execution_count": 55,
   "metadata": {},
   "outputs": [],
   "source": [
    "#criando uma funcao \n",
    "def funcao_corr(lista):\n",
    "    for x in colunas:\n",
    "        df_1 = df[['price', x]]\n",
    "        df_1.plot.scatter(x=x, y = 'price')\n",
    "        "
   ]
  },
  {
   "cell_type": "code",
   "execution_count": 57,
   "metadata": {},
   "outputs": [],
   "source": [
    "#Separando os tipos de listagem\n",
    "dados_house=df.loc[df.property_type=='House']\n",
    "dados_boat=df.loc[df.property_type=='Boat']\n",
    "dados_apartament=df.loc[df.property_type=='Apartament']\n",
    "dados_condominium=df.loc[df.property_type=='Condominium']\n",
    "dados_loft=df.loc[df.property_type=='Loft']\n",
    "dados_townhouse=df.loc[df.property_type=='Townhouse']\n",
    "\n",
    "\n",
    "preco_house=dados_house.price\n",
    "preco_boat=dados_boat.price\n",
    "preco_apartament=dados_apartament.price\n",
    "preco_condominium=dados_condominium.price\n",
    "preco_loft=dados_loft.price\n",
    "preco_townhouse=dados_townhouse.price\n",
    "\n",
    "preco_medio_house=preco_house.mean()\n",
    "preco_medio_boat=preco_boat.mean()\n",
    "preco_medio_apartament=preco_apartament.mean()\n",
    "preco_medio_condominium=preco_condominium.mean()\n",
    "preco_medio_loft=preco_loft.mean()\n",
    "preco_medio_townhouse=preco_townhouse.mean()"
   ]
  },
  {
   "cell_type": "code",
   "execution_count": null,
   "metadata": {},
   "outputs": [],
   "source": []
  }
 ],
 "metadata": {
  "kernelspec": {
   "display_name": "Python 3",
   "language": "python",
   "name": "python3"
  },
  "language_info": {
   "codemirror_mode": {
    "name": "ipython",
    "version": 3
   },
   "file_extension": ".py",
   "mimetype": "text/x-python",
   "name": "python",
   "nbconvert_exporter": "python",
   "pygments_lexer": "ipython3",
   "version": "3.7.1"
  }
 },
 "nbformat": 4,
 "nbformat_minor": 2
}
